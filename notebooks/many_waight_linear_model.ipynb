{
 "cells": [
  {
   "cell_type": "code",
   "execution_count": 1,
   "metadata": {
    "collapsed": false
   },
   "outputs": [],
   "source": [
    "import numpy as np\n",
    "import matplotlib.pyplot as plt\n",
    "import scipy.optimize as opt\n",
    "%matplotlib inline"
   ]
  },
  {
   "cell_type": "code",
   "execution_count": 7,
   "metadata": {
    "collapsed": false
   },
   "outputs": [],
   "source": [
    "class many_weight_linear_model():\n",
    "    def __init__(self, delta=0.5, lmda=0.5):\n",
    "        self.delta = delta\n",
    "        self.lmda = lmda\n",
    "    def loss_svm(self, X, y, W, b):\n",
    "        N = X.shape[0]\n",
    "        scores = X.dot(W) + b\n",
    "        right_scores = scores[np.arange(N), y].reshape([N, 1])\n",
    "        margins = np.maximum(0, scores - right_scores + self.delta)\n",
    "        margins[np.arange(N), y] = 0\n",
    "        return np.sum(margins) / N + self.lmda * np.sum(W)\n",
    "    def derivative_svm(self, X, y, W, b):\n",
    "        N = X.shape[0]\n",
    "        M = w.shape[1]\n",
    "        scores = X.dot(W) + b\n",
    "        right_scores = scores[np.arange(N), y].reshape([N, 1])\n",
    "        margins = np.maximum(0, scores - right_scores + self.delta)\n",
    "        margins[np.arange(N), y] = 0\n",
    "        print(margins)\n",
    "        der = np.array([np.array(np.sum(X[margins[:, 0] > 0], axis=0))])\n",
    "        for i in np.arange(1, M):\n",
    "            der = np.concatenate((der, [np.sum(X[margins[:, i] > 0], axis=0)]))\n",
    "        for i in np.arange(N):\n",
    "            der[y[i]] -= sum(margins[i] > 0) * X[i]\n",
    "            print('for ', y[i], ' ', sum(margins[i] > 0) * X[i])\n",
    "        return der"
   ]
  },
  {
   "cell_type": "code",
   "execution_count": 8,
   "metadata": {
    "collapsed": true
   },
   "outputs": [],
   "source": [
    "lm = many_weight_linear_model()"
   ]
  },
  {
   "cell_type": "code",
   "execution_count": 49,
   "metadata": {
    "collapsed": false
   },
   "outputs": [],
   "source": [
    "x = np.array([[1, 2],\n",
    "            [0,1]])\n",
    "y = np.array([1, 0])\n",
    "w = np.array([[1,0, -1],\n",
    "              [1,0, 0]])\n",
    "b = np.array([1, 1, 1])"
   ]
  },
  {
   "cell_type": "code",
   "execution_count": 55,
   "metadata": {
    "collapsed": false
   },
   "outputs": [],
   "source": [
    "X = np.random.normal(loc=0, scale=1, size=[1000, 40])\n",
    "y = np.random.binomial(10,0.5, size=1000)\n",
    "w = np.random.normal(0, 1, [40, 10])\n",
    "b = np.random.normal(0, 1, 10)"
   ]
  },
  {
   "cell_type": "code",
   "execution_count": 56,
   "metadata": {
    "collapsed": false
   },
   "outputs": [
    {
     "ename": "ValueError",
     "evalue": "shapes (2,2) and (40,10) not aligned: 2 (dim 1) != 40 (dim 0)",
     "output_type": "error",
     "traceback": [
      "\u001b[0;31m---------------------------------------------------------------------------\u001b[0m",
      "\u001b[0;31mValueError\u001b[0m                                Traceback (most recent call last)",
      "\u001b[0;32m<ipython-input-56-78e015c13ba1>\u001b[0m in \u001b[0;36m<module>\u001b[0;34m()\u001b[0m\n\u001b[0;32m----> 1\u001b[0;31m \u001b[0mlm\u001b[0m\u001b[0;34m.\u001b[0m\u001b[0mloss_svm\u001b[0m\u001b[0;34m(\u001b[0m\u001b[0mx\u001b[0m\u001b[0;34m,\u001b[0m\u001b[0my\u001b[0m\u001b[0;34m,\u001b[0m\u001b[0mw\u001b[0m\u001b[0;34m,\u001b[0m \u001b[0mb\u001b[0m\u001b[0;34m)\u001b[0m\u001b[0;34m\u001b[0m\u001b[0m\n\u001b[0m",
      "\u001b[0;32m<ipython-input-7-22f59064a0e6>\u001b[0m in \u001b[0;36mloss_svm\u001b[0;34m(self, X, y, W, b)\u001b[0m\n\u001b[1;32m      5\u001b[0m     \u001b[0;32mdef\u001b[0m \u001b[0mloss_svm\u001b[0m\u001b[0;34m(\u001b[0m\u001b[0mself\u001b[0m\u001b[0;34m,\u001b[0m \u001b[0mX\u001b[0m\u001b[0;34m,\u001b[0m \u001b[0my\u001b[0m\u001b[0;34m,\u001b[0m \u001b[0mW\u001b[0m\u001b[0;34m,\u001b[0m \u001b[0mb\u001b[0m\u001b[0;34m)\u001b[0m\u001b[0;34m:\u001b[0m\u001b[0;34m\u001b[0m\u001b[0m\n\u001b[1;32m      6\u001b[0m         \u001b[0mN\u001b[0m \u001b[0;34m=\u001b[0m \u001b[0mX\u001b[0m\u001b[0;34m.\u001b[0m\u001b[0mshape\u001b[0m\u001b[0;34m[\u001b[0m\u001b[0;36m0\u001b[0m\u001b[0;34m]\u001b[0m\u001b[0;34m\u001b[0m\u001b[0m\n\u001b[0;32m----> 7\u001b[0;31m         \u001b[0mscores\u001b[0m \u001b[0;34m=\u001b[0m \u001b[0mX\u001b[0m\u001b[0;34m.\u001b[0m\u001b[0mdot\u001b[0m\u001b[0;34m(\u001b[0m\u001b[0mW\u001b[0m\u001b[0;34m)\u001b[0m \u001b[0;34m+\u001b[0m \u001b[0mb\u001b[0m\u001b[0;34m\u001b[0m\u001b[0m\n\u001b[0m\u001b[1;32m      8\u001b[0m         \u001b[0mright_scores\u001b[0m \u001b[0;34m=\u001b[0m \u001b[0mscores\u001b[0m\u001b[0;34m[\u001b[0m\u001b[0mnp\u001b[0m\u001b[0;34m.\u001b[0m\u001b[0marange\u001b[0m\u001b[0;34m(\u001b[0m\u001b[0mN\u001b[0m\u001b[0;34m)\u001b[0m\u001b[0;34m,\u001b[0m \u001b[0my\u001b[0m\u001b[0;34m]\u001b[0m\u001b[0;34m.\u001b[0m\u001b[0mreshape\u001b[0m\u001b[0;34m(\u001b[0m\u001b[0;34m[\u001b[0m\u001b[0mN\u001b[0m\u001b[0;34m,\u001b[0m \u001b[0;36m1\u001b[0m\u001b[0;34m]\u001b[0m\u001b[0;34m)\u001b[0m\u001b[0;34m\u001b[0m\u001b[0m\n\u001b[1;32m      9\u001b[0m         \u001b[0mmargins\u001b[0m \u001b[0;34m=\u001b[0m \u001b[0mnp\u001b[0m\u001b[0;34m.\u001b[0m\u001b[0mmaximum\u001b[0m\u001b[0;34m(\u001b[0m\u001b[0;36m0\u001b[0m\u001b[0;34m,\u001b[0m \u001b[0mscores\u001b[0m \u001b[0;34m-\u001b[0m \u001b[0mright_scores\u001b[0m \u001b[0;34m+\u001b[0m \u001b[0mself\u001b[0m\u001b[0;34m.\u001b[0m\u001b[0mdelta\u001b[0m\u001b[0;34m)\u001b[0m\u001b[0;34m\u001b[0m\u001b[0m\n",
      "\u001b[0;31mValueError\u001b[0m: shapes (2,2) and (40,10) not aligned: 2 (dim 1) != 40 (dim 0)"
     ]
    }
   ],
   "source": [
    "lm.loss_svm(x,y,w, b)"
   ]
  },
  {
   "cell_type": "code",
   "execution_count": 11,
   "metadata": {
    "collapsed": false
   },
   "outputs": [
    {
     "name": "stdout",
     "output_type": "stream",
     "text": [
      "[[ 3.5  0.   0. ]\n",
      " [ 0.   0.   0. ]]\n",
      "for  1   [1 2]\n",
      "for  0   [0 0]\n"
     ]
    },
    {
     "data": {
      "text/plain": [
       "array([[ 1,  2],\n",
       "       [-1, -2],\n",
       "       [ 0,  0]])"
      ]
     },
     "execution_count": 11,
     "metadata": {},
     "output_type": "execute_result"
    }
   ],
   "source": [
    "lm.derivative_svm(x, y, w, b)"
   ]
  },
  {
   "cell_type": "code",
   "execution_count": 396,
   "metadata": {
    "collapsed": false
   },
   "outputs": [],
   "source": [
    "scores = np.array([[1,0,1],\n",
    "                 [0,1,1]])\n",
    "x = np.array([[1,2,3,4,5,6],\n",
    "            [0,0,1,1,2,2]])\n",
    "y = np.array([1,0])"
   ]
  },
  {
   "cell_type": "code",
   "execution_count": 427,
   "metadata": {
    "collapsed": false
   },
   "outputs": [
    {
     "name": "stdout",
     "output_type": "stream",
     "text": [
      "[[1 2 3 4 5 6]\n",
      " [0 0 1 1 2 2]\n",
      " [1 2 4 5 7 8]]\n",
      "[[  1   2   1   2   1   2]\n",
      " [ -2  -4  -5  -7  -8 -10]\n",
      " [  1   2   4   5   7   8]]\n"
     ]
    }
   ],
   "source": [
    "der = np.array([np.array(np.sum(x[scores[:, 0] > 0], axis=0))])\n",
    "for i in np.arange(1, scores.shape[1]):\n",
    "    der = np.concatenate((der, [np.sum(x[scores[:, i] > 0], axis=0)]))\n",
    "    \n",
    "for i in range(len(y)):\n",
    "    der[y[i]] -= sum(scores[i] > 0) * x[i]\n"
   ]
  },
  {
   "cell_type": "code",
   "execution_count": 422,
   "metadata": {
    "collapsed": false
   },
   "outputs": [
    {
     "data": {
      "text/plain": [
       "array([[  1,   2,   1,   2,   1,   2],\n",
       "       [ -2,  -4,  -5,  -7,  -8, -10],\n",
       "       [  1,   2,   4,   5,   7,   8]])"
      ]
     },
     "execution_count": 422,
     "metadata": {},
     "output_type": "execute_result"
    }
   ],
   "source": [
    "der"
   ]
  },
  {
   "cell_type": "code",
   "execution_count": null,
   "metadata": {
    "collapsed": true
   },
   "outputs": [],
   "source": []
  }
 ],
 "metadata": {
  "anaconda-cloud": {},
  "kernelspec": {
   "display_name": "Python [conda root]",
   "language": "python",
   "name": "conda-root-py"
  },
  "language_info": {
   "codemirror_mode": {
    "name": "ipython",
    "version": 3
   },
   "file_extension": ".py",
   "mimetype": "text/x-python",
   "name": "python",
   "nbconvert_exporter": "python",
   "pygments_lexer": "ipython3",
   "version": "3.5.2"
  }
 },
 "nbformat": 4,
 "nbformat_minor": 1
}
